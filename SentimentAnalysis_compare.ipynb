{
 "cells": [
  {
   "cell_type": "markdown",
   "metadata": {
    "colab_type": "text",
    "id": "RiEXZ7J80CA6"
   },
   "source": [
    "# MLP for the IMDB problem"
   ]
  },
  {
   "cell_type": "code",
   "execution_count": 1,
   "metadata": {
    "colab": {
     "autoexec": {
      "startup": false,
      "wait_interval": 0
     },
     "base_uri": "https://localhost:8080/",
     "height": 34
    },
    "colab_type": "code",
    "collapsed": false,
    "executionInfo": {
     "elapsed": 8422,
     "status": "ok",
     "timestamp": 1523746530384,
     "user": {
      "displayName": "saprem shah",
      "photoUrl": "https://lh3.googleusercontent.com/a/default-user=s128",
      "userId": "118405894786681012982"
     },
     "user_tz": -330
    },
    "id": "9VP_uPxWz2MS",
    "outputId": "0d9d2d5c-b8b0-4c38-b5b7-1a1e52ea1044"
   },
   "outputs": [
    {
     "name": "stderr",
     "output_type": "stream",
     "text": [
      "Using TensorFlow backend.\n"
     ]
    }
   ],
   "source": [
    "import numpy\n",
    "from keras.datasets import imdb\n",
    "from keras.models import Sequential\n",
    "from keras.layers import Dense\n",
    "from keras.layers import Flatten\n",
    "from keras.layers.embeddings import Embedding\n",
    "from keras.preprocessing import sequence\n",
    "# fix random seed for reproducibility\n",
    "seed = 7\n",
    "numpy.random.seed(seed)"
   ]
  },
  {
   "cell_type": "code",
   "execution_count": 2,
   "metadata": {
    "colab": {
     "autoexec": {
      "startup": false,
      "wait_interval": 0
     },
     "base_uri": "https://localhost:8080/",
     "height": 34
    },
    "colab_type": "code",
    "collapsed": false,
    "executionInfo": {
     "elapsed": 1756,
     "status": "ok",
     "timestamp": 1523746532350,
     "user": {
      "displayName": "saprem shah",
      "photoUrl": "https://lh3.googleusercontent.com/a/default-user=s128",
      "userId": "118405894786681012982"
     },
     "user_tz": -330
    },
    "id": "9sIaPr3C0JH-",
    "outputId": "2ac60ab1-58cf-47ec-d1b9-368ce9661253"
   },
   "outputs": [
    {
     "data": {
      "text/plain": [
       "['/job:localhost/replica:0/task:0/device:GPU:0']"
      ]
     },
     "execution_count": 2,
     "metadata": {
      "tags": []
     },
     "output_type": "execute_result"
    }
   ],
   "source": [
    "from keras import backend as K\n",
    "K.tensorflow_backend._get_available_gpus()"
   ]
  },
  {
   "cell_type": "code",
   "execution_count": 3,
   "metadata": {
    "colab": {
     "autoexec": {
      "startup": false,
      "wait_interval": 0
     },
     "base_uri": "https://localhost:8080/",
     "height": 52
    },
    "colab_type": "code",
    "collapsed": false,
    "executionInfo": {
     "elapsed": 8810,
     "status": "ok",
     "timestamp": 1523746541208,
     "user": {
      "displayName": "saprem shah",
      "photoUrl": "https://lh3.googleusercontent.com/a/default-user=s128",
      "userId": "118405894786681012982"
     },
     "user_tz": -330
    },
    "id": "MNZEKJ3b0VbG",
    "outputId": "1949a81b-57be-4a59-f20f-05f93e4109b7"
   },
   "outputs": [
    {
     "name": "stdout",
     "output_type": "stream",
     "text": [
      "Downloading data from https://s3.amazonaws.com/text-datasets/imdb.npz\n",
      "17465344/17464789 [==============================] - 3s 0us/step\n"
     ]
    }
   ],
   "source": [
    "# load the dataset but only keep the top n words, zero the rest\n",
    "top_words = 5000\n",
    "(X_train, y_train), (X_test, y_test) = imdb.load_data(num_words=top_words)"
   ]
  },
  {
   "cell_type": "code",
   "execution_count": 0,
   "metadata": {
    "colab": {
     "autoexec": {
      "startup": false,
      "wait_interval": 0
     }
    },
    "colab_type": "code",
    "collapsed": true,
    "id": "NW3jxrB90evU"
   },
   "outputs": [],
   "source": [
    "max_words = 500\n",
    "X_train = sequence.pad_sequences(X_train, maxlen=max_words)\n",
    "X_test = sequence.pad_sequences(X_test, maxlen=max_words)"
   ]
  },
  {
   "cell_type": "code",
   "execution_count": 5,
   "metadata": {
    "colab": {
     "autoexec": {
      "startup": false,
      "wait_interval": 0
     },
     "base_uri": "https://localhost:8080/",
     "height": 295
    },
    "colab_type": "code",
    "collapsed": false,
    "executionInfo": {
     "elapsed": 1406,
     "status": "ok",
     "timestamp": 1523746546124,
     "user": {
      "displayName": "saprem shah",
      "photoUrl": "https://lh3.googleusercontent.com/a/default-user=s128",
      "userId": "118405894786681012982"
     },
     "user_tz": -330
    },
    "id": "FD2SGKse0jdQ",
    "outputId": "c66759c1-90b2-4e02-9e81-6a0a1834538d"
   },
   "outputs": [
    {
     "name": "stdout",
     "output_type": "stream",
     "text": [
      "_________________________________________________________________\n",
      "Layer (type)                 Output Shape              Param #   \n",
      "=================================================================\n",
      "embedding_1 (Embedding)      (None, 500, 32)           160000    \n",
      "_________________________________________________________________\n",
      "flatten_1 (Flatten)          (None, 16000)             0         \n",
      "_________________________________________________________________\n",
      "dense_1 (Dense)              (None, 250)               4000250   \n",
      "_________________________________________________________________\n",
      "dense_2 (Dense)              (None, 1)                 251       \n",
      "=================================================================\n",
      "Total params: 4,160,501\n",
      "Trainable params: 4,160,501\n",
      "Non-trainable params: 0\n",
      "_________________________________________________________________\n",
      "None\n"
     ]
    }
   ],
   "source": [
    "# create the model\n",
    "model = Sequential()\n",
    "model.add(Embedding(top_words, 32, input_length=max_words))\n",
    "model.add(Flatten())\n",
    "model.add(Dense(250, activation='relu'))\n",
    "model.add(Dense(1, activation='sigmoid'))\n",
    "model.compile(loss='binary_crossentropy', optimizer='adam', metrics=['accuracy'])\n",
    "print(model.summary())"
   ]
  },
  {
   "cell_type": "code",
   "execution_count": 8,
   "metadata": {
    "colab": {
     "autoexec": {
      "startup": false,
      "wait_interval": 0
     },
     "base_uri": "https://localhost:8080/",
     "height": 156
    },
    "colab_type": "code",
    "collapsed": false,
    "executionInfo": {
     "elapsed": 12572,
     "status": "ok",
     "timestamp": 1523746642858,
     "user": {
      "displayName": "saprem shah",
      "photoUrl": "https://lh3.googleusercontent.com/a/default-user=s128",
      "userId": "118405894786681012982"
     },
     "user_tz": -330
    },
    "id": "dmfgJzDA0lAm",
    "outputId": "08e24ec6-0f73-4a03-8daf-f3a3025a3411"
   },
   "outputs": [
    {
     "name": "stdout",
     "output_type": "stream",
     "text": [
      "Train on 25000 samples, validate on 25000 samples\n",
      "Epoch 1/3\n",
      " - 3s - loss: 1.4128e-04 - acc: 1.0000 - val_loss: 0.6457 - val_acc: 0.8683\n",
      "Epoch 2/3\n",
      " - 3s - loss: 1.1170e-04 - acc: 1.0000 - val_loss: 0.6588 - val_acc: 0.8687\n",
      "Epoch 3/3\n",
      " - 3s - loss: 8.9562e-05 - acc: 1.0000 - val_loss: 0.6707 - val_acc: 0.8686\n",
      "Accuracy: 86.86%\n"
     ]
    }
   ],
   "source": [
    "# Fit the model\n",
    "model.fit(X_train, y_train, validation_data=(X_test, y_test), epochs=3, batch_size=128, verbose=2)\n",
    "# Final evaluation of the model\n",
    "scores = model.evaluate(X_test, y_test, verbose=0)\n",
    "print(\"Accuracy: %.2f%%\" % (scores[1]*100))"
   ]
  },
  {
   "cell_type": "markdown",
   "metadata": {
    "colab_type": "text",
    "id": "V07NYlAz0pT4"
   },
   "source": [
    "# 1D CNN"
   ]
  },
  {
   "cell_type": "code",
   "execution_count": 0,
   "metadata": {
    "colab": {
     "autoexec": {
      "startup": false,
      "wait_interval": 0
     }
    },
    "colab_type": "code",
    "collapsed": true,
    "id": "nbxPmr8e0oyM"
   },
   "outputs": [],
   "source": [
    "# CNN for the IMDB problem\n",
    "import numpy\n",
    "from keras.datasets import imdb\n",
    "from keras.models import Sequential\n",
    "from keras.layers import Dense\n",
    "from keras.layers import Flatten\n",
    "from keras.layers.convolutional import Conv1D\n",
    "from keras.layers.convolutional import MaxPooling1D\n",
    "from keras.layers.embeddings import Embedding\n",
    "from keras.preprocessing import sequence\n",
    "# fix random seed for reproducibility\n",
    "seed = 7\n",
    "numpy.random.seed(seed)"
   ]
  },
  {
   "cell_type": "code",
   "execution_count": 0,
   "metadata": {
    "colab": {
     "autoexec": {
      "startup": false,
      "wait_interval": 0
     }
    },
    "colab_type": "code",
    "collapsed": true,
    "id": "0x_RMMNN0mdq"
   },
   "outputs": [],
   "source": [
    "# load the dataset but only keep the top n words, zero the rest\n",
    "top_words = 5000\n",
    "(X_train, y_train), (X_test, y_test) = imdb.load_data(num_words=top_words)\n",
    "# pad dataset to a maximum review length in words\n",
    "max_words = 500\n",
    "X_train = sequence.pad_sequences(X_train, maxlen=max_words)\n",
    "X_test = sequence.pad_sequences(X_test, maxlen=max_words)"
   ]
  },
  {
   "cell_type": "code",
   "execution_count": 10,
   "metadata": {
    "colab": {
     "autoexec": {
      "startup": false,
      "wait_interval": 0
     },
     "base_uri": "https://localhost:8080/",
     "height": 436
    },
    "colab_type": "code",
    "collapsed": false,
    "executionInfo": {
     "elapsed": 980,
     "status": "ok",
     "timestamp": 1523670250936,
     "user": {
      "displayName": "saprem shah",
      "photoUrl": "https://lh3.googleusercontent.com/a/default-user=s128",
      "userId": "118405894786681012982"
     },
     "user_tz": -330
    },
    "id": "Rdm4E3HW0tMG",
    "outputId": "26244364-2759-4753-93a0-1c4f87d768a0"
   },
   "outputs": [
    {
     "name": "stdout",
     "output_type": "stream",
     "text": [
      "WARNING:tensorflow:From /usr/local/lib/python3.6/dist-packages/tensorflow/python/util/deprecation.py:497: calling conv1d (from tensorflow.python.ops.nn_ops) with data_format=NHWC is deprecated and will be removed in a future version.\n",
      "Instructions for updating:\n",
      "`NHWC` for data_format is deprecated, use `NWC` instead\n",
      "_________________________________________________________________\n",
      "Layer (type)                 Output Shape              Param #   \n",
      "=================================================================\n",
      "embedding_2 (Embedding)      (None, 500, 32)           160000    \n",
      "_________________________________________________________________\n",
      "conv1d_1 (Conv1D)            (None, 500, 32)           3104      \n",
      "_________________________________________________________________\n",
      "max_pooling1d_1 (MaxPooling1 (None, 250, 32)           0         \n",
      "_________________________________________________________________\n",
      "flatten_2 (Flatten)          (None, 8000)              0         \n",
      "_________________________________________________________________\n",
      "dense_3 (Dense)              (None, 250)               2000250   \n",
      "_________________________________________________________________\n",
      "dense_4 (Dense)              (None, 1)                 251       \n",
      "=================================================================\n",
      "Total params: 2,163,605\n",
      "Trainable params: 2,163,605\n",
      "Non-trainable params: 0\n",
      "_________________________________________________________________\n",
      "None\n"
     ]
    }
   ],
   "source": [
    "# create the model\n",
    "model = Sequential()\n",
    "model.add(Embedding(top_words, 32, input_length=max_words))\n",
    "model.add(Conv1D(filters=32, kernel_size=3, padding='same', activation='relu'))\n",
    "model.add(MaxPooling1D(pool_size=2))\n",
    "model.add(Flatten())\n",
    "model.add(Dense(250, activation='relu'))\n",
    "model.add(Dense(1, activation='sigmoid'))\n",
    "model.compile(loss='binary_crossentropy', optimizer='adam', metrics=['accuracy'])\n",
    "print(model.summary())"
   ]
  },
  {
   "cell_type": "code",
   "execution_count": 11,
   "metadata": {
    "colab": {
     "autoexec": {
      "startup": false,
      "wait_interval": 0
     },
     "base_uri": "https://localhost:8080/",
     "height": 121
    },
    "colab_type": "code",
    "collapsed": false,
    "executionInfo": {
     "elapsed": 11806,
     "status": "ok",
     "timestamp": 1523670265208,
     "user": {
      "displayName": "saprem shah",
      "photoUrl": "https://lh3.googleusercontent.com/a/default-user=s128",
      "userId": "118405894786681012982"
     },
     "user_tz": -330
    },
    "id": "5rbERtgc0uim",
    "outputId": "b6b0e8d2-5c68-4c69-8e56-25031bfad14b"
   },
   "outputs": [
    {
     "name": "stdout",
     "output_type": "stream",
     "text": [
      "Train on 25000 samples, validate on 25000 samples\n",
      "Epoch 1/2\n",
      " - 5s - loss: 0.4791 - acc: 0.7366 - val_loss: 0.2828 - val_acc: 0.8827\n",
      "Epoch 2/2\n",
      " - 4s - loss: 0.2227 - acc: 0.9118 - val_loss: 0.2782 - val_acc: 0.8838\n",
      "Accuracy: 88.38%\n"
     ]
    }
   ],
   "source": [
    "# Fit the model\n",
    "model.fit(X_train, y_train, validation_data=(X_test, y_test), epochs=2, batch_size=128, verbose=2)\n",
    "# Final evaluation of the model\n",
    "scores = model.evaluate(X_test, y_test, verbose=0)\n",
    "print(\"Accuracy: %.2f%%\" % (scores[1]*100))"
   ]
  },
  {
   "cell_type": "markdown",
   "metadata": {
    "colab_type": "text",
    "id": "sGP5S7h80xw2"
   },
   "source": [
    "#Simple LSTM"
   ]
  },
  {
   "cell_type": "code",
   "execution_count": 0,
   "metadata": {
    "colab": {
     "autoexec": {
      "startup": false,
      "wait_interval": 0
     }
    },
    "colab_type": "code",
    "collapsed": true,
    "id": "EgfhsJ190v3E"
   },
   "outputs": [],
   "source": [
    "import numpy\n",
    "from keras.datasets import imdb\n",
    "from keras.models import Sequential\n",
    "from keras.layers import Dense\n",
    "from keras.layers import LSTM\n",
    "from keras.layers.embeddings import Embedding\n",
    "from keras.preprocessing import sequence\n",
    "# fix random seed for reproducibility\n",
    "numpy.random.seed(7)"
   ]
  },
  {
   "cell_type": "code",
   "execution_count": 0,
   "metadata": {
    "colab": {
     "autoexec": {
      "startup": false,
      "wait_interval": 0
     }
    },
    "colab_type": "code",
    "collapsed": true,
    "id": "XaS7w3sQ01c6"
   },
   "outputs": [],
   "source": [
    "# load the dataset but only keep the top n words, zero the rest\n",
    "top_words = 5000\n",
    "(X_train, y_train), (X_test, y_test) = imdb.load_data(num_words=top_words)"
   ]
  },
  {
   "cell_type": "code",
   "execution_count": 0,
   "metadata": {
    "colab": {
     "autoexec": {
      "startup": false,
      "wait_interval": 0
     }
    },
    "colab_type": "code",
    "collapsed": true,
    "id": "qJgWIsYI04Nq"
   },
   "outputs": [],
   "source": [
    "# truncate and pad input sequences\n",
    "max_review_length = 500\n",
    "X_train = sequence.pad_sequences(X_train, maxlen=max_review_length)\n",
    "X_test = sequence.pad_sequences(X_test, maxlen=max_review_length)"
   ]
  },
  {
   "cell_type": "code",
   "execution_count": 15,
   "metadata": {
    "colab": {
     "autoexec": {
      "startup": false,
      "wait_interval": 0
     },
     "base_uri": "https://localhost:8080/",
     "height": 419
    },
    "colab_type": "code",
    "collapsed": false,
    "executionInfo": {
     "elapsed": 1811742,
     "status": "ok",
     "timestamp": 1523672108610,
     "user": {
      "displayName": "saprem shah",
      "photoUrl": "https://lh3.googleusercontent.com/a/default-user=s128",
      "userId": "118405894786681012982"
     },
     "user_tz": -330
    },
    "id": "dsEnnwI104uy",
    "outputId": "bf400bdb-6358-4ca0-86d6-515765322bdb"
   },
   "outputs": [
    {
     "name": "stdout",
     "output_type": "stream",
     "text": [
      "_________________________________________________________________\n",
      "Layer (type)                 Output Shape              Param #   \n",
      "=================================================================\n",
      "embedding_3 (Embedding)      (None, 500, 32)           160000    \n",
      "_________________________________________________________________\n",
      "lstm_1 (LSTM)                (None, 100)               53200     \n",
      "_________________________________________________________________\n",
      "dense_5 (Dense)              (None, 1)                 101       \n",
      "=================================================================\n",
      "Total params: 213,301\n",
      "Trainable params: 213,301\n",
      "Non-trainable params: 0\n",
      "_________________________________________________________________\n",
      "None\n",
      "Train on 25000 samples, validate on 25000 samples\n",
      "Epoch 1/3\n",
      " 7104/25000 [=======>......................] - ETA: 5:54 - loss: 0.5868 - acc: 0.676925000/25000 [==============================] - 600s 24ms/step - loss: 0.4215 - acc: 0.8002 - val_loss: 0.3569 - val_acc: 0.8498\n",
      "Epoch 2/3\n",
      "21760/25000 [=========================>....] - ETA: 1:02 - loss: 0.3042 - acc: 0.873225000/25000 [==============================] - 594s 24ms/step - loss: 0.3045 - acc: 0.8732 - val_loss: 0.3220 - val_acc: 0.8654\n",
      "Epoch 3/3\n",
      "25000/25000 [==============================] - 615s 25ms/step - loss: 0.2452 - acc: 0.9035 - val_loss: 0.3093 - val_acc: 0.8722\n"
     ]
    },
    {
     "data": {
      "text/plain": [
       "<keras.callbacks.History at 0x7f9be9a6eef0>"
      ]
     },
     "execution_count": 15,
     "metadata": {
      "tags": []
     },
     "output_type": "execute_result"
    }
   ],
   "source": [
    "# create the model\n",
    "embedding_vecor_length = 32\n",
    "model = Sequential()\n",
    "model.add(Embedding(top_words, embedding_vecor_length, input_length=max_review_length))\n",
    "model.add(LSTM(100))\n",
    "model.add(Dense(1, activation='sigmoid'))\n",
    "model.compile(loss='binary_crossentropy', optimizer='adam', metrics=['accuracy'])\n",
    "print(model.summary())\n",
    "model.fit(X_train, y_train, validation_data=(X_test, y_test), epochs=3, batch_size=64)"
   ]
  },
  {
   "cell_type": "code",
   "execution_count": 16,
   "metadata": {
    "colab": {
     "autoexec": {
      "startup": false,
      "wait_interval": 0
     },
     "base_uri": "https://localhost:8080/",
     "height": 34
    },
    "colab_type": "code",
    "collapsed": false,
    "executionInfo": {
     "elapsed": 231562,
     "status": "ok",
     "timestamp": 1523672340266,
     "user": {
      "displayName": "saprem shah",
      "photoUrl": "https://lh3.googleusercontent.com/a/default-user=s128",
      "userId": "118405894786681012982"
     },
     "user_tz": -330
    },
    "id": "VfxL-S_r06Jk",
    "outputId": "6bcc9d97-244e-47c3-cf62-39faacf53aae"
   },
   "outputs": [
    {
     "name": "stdout",
     "output_type": "stream",
     "text": [
      "Accuracy: 87.22%\n"
     ]
    }
   ],
   "source": [
    "# Final evaluation of the model\n",
    "scores = model.evaluate(X_test, y_test, verbose=0)\n",
    "print(\"Accuracy: %.2f%%\" % (scores[1]*100))"
   ]
  },
  {
   "cell_type": "markdown",
   "metadata": {
    "colab_type": "text",
    "id": "CbNyzF1409qw"
   },
   "source": [
    "# LSTM with Dropout"
   ]
  },
  {
   "cell_type": "code",
   "execution_count": 17,
   "metadata": {
    "colab": {
     "autoexec": {
      "startup": false,
      "wait_interval": 0
     },
     "base_uri": "https://localhost:8080/",
     "height": 489
    },
    "colab_type": "code",
    "collapsed": false,
    "executionInfo": {
     "elapsed": 1803566,
     "status": "ok",
     "timestamp": 1523674144326,
     "user": {
      "displayName": "saprem shah",
      "photoUrl": "https://lh3.googleusercontent.com/a/default-user=s128",
      "userId": "118405894786681012982"
     },
     "user_tz": -330
    },
    "id": "o7nmZn18074g",
    "outputId": "28a42a8f-9b7b-4f2e-c328-a69f4d32b3d7"
   },
   "outputs": [
    {
     "name": "stdout",
     "output_type": "stream",
     "text": [
      "_________________________________________________________________\n",
      "Layer (type)                 Output Shape              Param #   \n",
      "=================================================================\n",
      "embedding_4 (Embedding)      (None, 500, 32)           160000    \n",
      "_________________________________________________________________\n",
      "dropout_1 (Dropout)          (None, 500, 32)           0         \n",
      "_________________________________________________________________\n",
      "lstm_2 (LSTM)                (None, 100)               53200     \n",
      "_________________________________________________________________\n",
      "dropout_2 (Dropout)          (None, 100)               0         \n",
      "_________________________________________________________________\n",
      "dense_6 (Dense)              (None, 1)                 101       \n",
      "=================================================================\n",
      "Total params: 213,301\n",
      "Trainable params: 213,301\n",
      "Non-trainable params: 0\n",
      "_________________________________________________________________\n",
      "None\n",
      "Train on 25000 samples, validate on 25000 samples\n",
      "Epoch 1/3\n",
      " 5440/25000 [=====>........................] - ETA: 6:28 - loss: 0.6815 - acc: 0.580325000/25000 [==============================] - 605s 24ms/step - loss: 0.5008 - acc: 0.7512 - val_loss: 0.3610 - val_acc: 0.8483\n",
      "Epoch 2/3\n",
      "21120/25000 [========================>.....] - ETA: 1:15 - loss: 0.3307 - acc: 0.864825000/25000 [==============================] - 599s 24ms/step - loss: 0.3233 - acc: 0.8686 - val_loss: 0.3037 - val_acc: 0.8743\n",
      "Epoch 3/3\n",
      "25000/25000 [==============================] - 597s 24ms/step - loss: 0.2671 - acc: 0.8972 - val_loss: 0.3596 - val_acc: 0.8408\n"
     ]
    },
    {
     "data": {
      "text/plain": [
       "<keras.callbacks.History at 0x7f9bf7fa4fd0>"
      ]
     },
     "execution_count": 17,
     "metadata": {
      "tags": []
     },
     "output_type": "execute_result"
    }
   ],
   "source": [
    "from keras.layers import Dropout\n",
    "\n",
    "model = Sequential()\n",
    "model.add(Embedding(top_words, embedding_vecor_length, input_length=max_review_length))\n",
    "model.add(Dropout(0.2))\n",
    "model.add(LSTM(100))\n",
    "model.add(Dropout(0.2))\n",
    "model.add(Dense(1, activation='sigmoid'))\n",
    "model.compile(loss='binary_crossentropy', optimizer='adam', metrics=['accuracy'])\n",
    "print(model.summary())\n",
    "model.fit(X_train, y_train, validation_data=(X_test, y_test), epochs=3, batch_size=64)"
   ]
  },
  {
   "cell_type": "code",
   "execution_count": 18,
   "metadata": {
    "colab": {
     "autoexec": {
      "startup": false,
      "wait_interval": 0
     },
     "base_uri": "https://localhost:8080/",
     "height": 34
    },
    "colab_type": "code",
    "collapsed": false,
    "executionInfo": {
     "elapsed": 226238,
     "status": "ok",
     "timestamp": 1523674370612,
     "user": {
      "displayName": "saprem shah",
      "photoUrl": "https://lh3.googleusercontent.com/a/default-user=s128",
      "userId": "118405894786681012982"
     },
     "user_tz": -330
    },
    "id": "U5mQmaKj1Cqc",
    "outputId": "6b3b6abe-4287-484b-efe6-ccf9086620b2"
   },
   "outputs": [
    {
     "name": "stdout",
     "output_type": "stream",
     "text": [
      "Accuracy: 84.08%\n"
     ]
    }
   ],
   "source": [
    "# Final evaluation of the model\n",
    "scores = model.evaluate(X_test, y_test, verbose=0)\n",
    "print(\"Accuracy: %.2f%%\" % (scores[1]*100))"
   ]
  },
  {
   "cell_type": "code",
   "execution_count": 0,
   "metadata": {
    "colab": {
     "autoexec": {
      "startup": false,
      "wait_interval": 0
     }
    },
    "colab_type": "code",
    "collapsed": true,
    "id": "DTTJnx_5_VB2"
   },
   "outputs": [],
   "source": [
    "import tensorflow as tf\n",
    "import keras\n",
    "config = tf.ConfigProto( device_count = {'GPU': 1 , 'CPU': 56} ) \n",
    "sess = tf.Session(config=config) \n",
    "keras.backend.set_session(sess)"
   ]
  },
  {
   "cell_type": "markdown",
   "metadata": {
    "colab_type": "text",
    "id": "-eewt7MG1K2q"
   },
   "source": [
    "# Recurrent Dropout"
   ]
  },
  {
   "cell_type": "code",
   "execution_count": 24,
   "metadata": {
    "colab": {
     "autoexec": {
      "startup": false,
      "wait_interval": 0
     },
     "base_uri": "https://localhost:8080/",
     "height": 419
    },
    "colab_type": "code",
    "collapsed": false,
    "executionInfo": {
     "elapsed": 2063576,
     "status": "ok",
     "timestamp": 1523678591802,
     "user": {
      "displayName": "saprem shah",
      "photoUrl": "https://lh3.googleusercontent.com/a/default-user=s128",
      "userId": "118405894786681012982"
     },
     "user_tz": -330
    },
    "id": "CC8wgEvX_fSk",
    "outputId": "4fd3aa3d-67f9-4e0f-a69c-88f480e46888"
   },
   "outputs": [
    {
     "name": "stdout",
     "output_type": "stream",
     "text": [
      "_________________________________________________________________\n",
      "Layer (type)                 Output Shape              Param #   \n",
      "=================================================================\n",
      "embedding_6 (Embedding)      (None, 500, 32)           160000    \n",
      "_________________________________________________________________\n",
      "lstm_4 (LSTM)                (None, 100)               53200     \n",
      "_________________________________________________________________\n",
      "dense_8 (Dense)              (None, 1)                 101       \n",
      "=================================================================\n",
      "Total params: 213,301\n",
      "Trainable params: 213,301\n",
      "Non-trainable params: 0\n",
      "_________________________________________________________________\n",
      "None\n",
      "Train on 25000 samples, validate on 25000 samples\n",
      "Epoch 1/3\n",
      " 7104/25000 [=======>......................] - ETA: 6:39 - loss: 0.6534 - acc: 0.640925000/25000 [==============================] - 688s 28ms/step - loss: 0.4995 - acc: 0.7594 - val_loss: 0.3705 - val_acc: 0.8384\n",
      "Epoch 2/3\n",
      "21760/25000 [=========================>....] - ETA: 1:11 - loss: 0.3709 - acc: 0.846025000/25000 [==============================] - 687s 27ms/step - loss: 0.3701 - acc: 0.8470 - val_loss: 0.5322 - val_acc: 0.8080\n",
      "Epoch 3/3\n",
      "25000/25000 [==============================] - 685s 27ms/step - loss: 0.4623 - acc: 0.7842 - val_loss: 0.4432 - val_acc: 0.7894\n"
     ]
    },
    {
     "data": {
      "text/plain": [
       "<keras.callbacks.History at 0x7f9bf1b1bf60>"
      ]
     },
     "execution_count": 24,
     "metadata": {
      "tags": []
     },
     "output_type": "execute_result"
    }
   ],
   "source": [
    "\n",
    "model = Sequential()\n",
    "model.add(Embedding(top_words, embedding_vecor_length, input_length=max_review_length))\n",
    "model.add(LSTM(100, dropout=0.2, recurrent_dropout=0.2))\n",
    "model.add(Dense(1, activation='sigmoid'))\n",
    "model.compile(loss='binary_crossentropy', optimizer='adam', metrics=['accuracy'])\n",
    "print(model.summary())\n",
    "model.fit(X_train, y_train, validation_data=(X_test, y_test), epochs=3, batch_size=64)"
   ]
  },
  {
   "cell_type": "code",
   "execution_count": 25,
   "metadata": {
    "colab": {
     "autoexec": {
      "startup": false,
      "wait_interval": 0
     },
     "base_uri": "https://localhost:8080/",
     "height": 34
    },
    "colab_type": "code",
    "collapsed": false,
    "executionInfo": {
     "elapsed": 265772,
     "status": "ok",
     "timestamp": 1523678857626,
     "user": {
      "displayName": "saprem shah",
      "photoUrl": "https://lh3.googleusercontent.com/a/default-user=s128",
      "userId": "118405894786681012982"
     },
     "user_tz": -330
    },
    "id": "LOlmYlDG_hrI",
    "outputId": "8945cb7e-a4d3-4744-ec2b-4c587583da9e"
   },
   "outputs": [
    {
     "name": "stdout",
     "output_type": "stream",
     "text": [
      "Accuracy: 78.94%\n"
     ]
    }
   ],
   "source": [
    "scores = model.evaluate(X_test, y_test, verbose=0)\n",
    "print(\"Accuracy: %.2f%%\" % (scores[1]*100))"
   ]
  },
  {
   "cell_type": "markdown",
   "metadata": {
    "colab_type": "text",
    "id": "S-K2ZAQa1SII"
   },
   "source": [
    "# LSTM and CNN"
   ]
  },
  {
   "cell_type": "code",
   "execution_count": 26,
   "metadata": {
    "colab": {
     "autoexec": {
      "startup": false,
      "wait_interval": 0
     },
     "base_uri": "https://localhost:8080/",
     "height": 489
    },
    "colab_type": "code",
    "collapsed": false,
    "executionInfo": {
     "elapsed": 832794,
     "status": "ok",
     "timestamp": 1523682253036,
     "user": {
      "displayName": "saprem shah",
      "photoUrl": "https://lh3.googleusercontent.com/a/default-user=s128",
      "userId": "118405894786681012982"
     },
     "user_tz": -330
    },
    "id": "fPrG48x-_j40",
    "outputId": "031f0002-2601-42ca-c0fc-cf5784d3159e"
   },
   "outputs": [
    {
     "name": "stdout",
     "output_type": "stream",
     "text": [
      "_________________________________________________________________\n",
      "Layer (type)                 Output Shape              Param #   \n",
      "=================================================================\n",
      "embedding_7 (Embedding)      (None, 500, 32)           160000    \n",
      "_________________________________________________________________\n",
      "conv1d_2 (Conv1D)            (None, 500, 32)           3104      \n",
      "_________________________________________________________________\n",
      "max_pooling1d_2 (MaxPooling1 (None, 250, 32)           0         \n",
      "_________________________________________________________________\n",
      "lstm_5 (LSTM)                (None, 100)               53200     \n",
      "_________________________________________________________________\n",
      "dense_9 (Dense)              (None, 1)                 101       \n",
      "=================================================================\n",
      "Total params: 216,405\n",
      "Trainable params: 216,405\n",
      "Non-trainable params: 0\n",
      "_________________________________________________________________\n",
      "None\n",
      "Train on 25000 samples, validate on 25000 samples\n",
      "Epoch 1/3\n",
      " 5440/25000 [=====>........................] - ETA: 3:00 - loss: 0.6861 - acc: 0.566225000/25000 [==============================] - 277s 11ms/step - loss: 0.4453 - acc: 0.7748 - val_loss: 0.3017 - val_acc: 0.8754\n",
      "Epoch 2/3\n",
      "21184/25000 [========================>.....] - ETA: 34s - loss: 0.2474 - acc: 0.902725000/25000 [==============================] - 277s 11ms/step - loss: 0.2483 - acc: 0.9021 - val_loss: 0.3314 - val_acc: 0.8698\n",
      "Epoch 3/3\n",
      "25000/25000 [==============================] - 276s 11ms/step - loss: 0.2036 - acc: 0.9231 - val_loss: 0.2916 - val_acc: 0.8828\n"
     ]
    },
    {
     "data": {
      "text/plain": [
       "<keras.callbacks.History at 0x7f9bf11e05f8>"
      ]
     },
     "execution_count": 26,
     "metadata": {
      "tags": []
     },
     "output_type": "execute_result"
    }
   ],
   "source": [
    "model = Sequential()\n",
    "model.add(Embedding(top_words, embedding_vecor_length, input_length=max_review_length))\n",
    "model.add(Conv1D(filters=32, kernel_size=3, padding='same', activation='relu'))\n",
    "model.add(MaxPooling1D(pool_size=2))\n",
    "model.add(LSTM(100))\n",
    "model.add(Dense(1, activation='sigmoid'))\n",
    "model.compile(loss='binary_crossentropy', optimizer='adam', metrics=['accuracy'])\n",
    "print(model.summary())\n",
    "model.fit(X_train, y_train, validation_data=(X_test, y_test), epochs=3, batch_size=64)"
   ]
  },
  {
   "cell_type": "code",
   "execution_count": 27,
   "metadata": {
    "colab": {
     "autoexec": {
      "startup": false,
      "wait_interval": 0
     },
     "base_uri": "https://localhost:8080/",
     "height": 34
    },
    "colab_type": "code",
    "collapsed": false,
    "executionInfo": {
     "elapsed": 104566,
     "status": "ok",
     "timestamp": 1523682357654,
     "user": {
      "displayName": "saprem shah",
      "photoUrl": "https://lh3.googleusercontent.com/a/default-user=s128",
      "userId": "118405894786681012982"
     },
     "user_tz": -330
    },
    "id": "LfUgJJ1H1WhK",
    "outputId": "9b1d4338-1e07-48f4-b1ba-719dd22d070a"
   },
   "outputs": [
    {
     "name": "stdout",
     "output_type": "stream",
     "text": [
      "Accuracy: 88.28%\n"
     ]
    }
   ],
   "source": [
    "# Final evaluation of the model\n",
    "scores = model.evaluate(X_test, y_test, verbose=0)\n",
    "print(\"Accuracy: %.2f%%\" % (scores[1]*100))"
   ]
  },
  {
   "cell_type": "code",
   "execution_count": 0,
   "metadata": {
    "colab": {
     "autoexec": {
      "startup": false,
      "wait_interval": 0
     }
    },
    "colab_type": "code",
    "collapsed": true,
    "id": "7jDT_4dJfWoo"
   },
   "outputs": [],
   "source": [
    " result = model.predict(X_test[0].reshape(1,X_test.shape[1]),batch_size=1,verbose = 2)[0]"
   ]
  },
  {
   "cell_type": "code",
   "execution_count": 33,
   "metadata": {
    "colab": {
     "autoexec": {
      "startup": false,
      "wait_interval": 0
     },
     "base_uri": "https://localhost:8080/",
     "height": 34
    },
    "colab_type": "code",
    "collapsed": false,
    "executionInfo": {
     "elapsed": 1062,
     "status": "ok",
     "timestamp": 1523682820692,
     "user": {
      "displayName": "saprem shah",
      "photoUrl": "https://lh3.googleusercontent.com/a/default-user=s128",
      "userId": "118405894786681012982"
     },
     "user_tz": -330
    },
    "id": "4U5Ry64Ljws8",
    "outputId": "bcc452cd-f316-4d93-adc5-ce051d18f191"
   },
   "outputs": [
    {
     "name": "stdout",
     "output_type": "stream",
     "text": [
      "[0.14380224] 0\n"
     ]
    }
   ],
   "source": [
    "print(result,y_test[0])"
   ]
  },
  {
   "cell_type": "code",
   "execution_count": 36,
   "metadata": {
    "colab": {
     "autoexec": {
      "startup": false,
      "wait_interval": 0
     },
     "base_uri": "https://localhost:8080/",
     "height": 885
    },
    "colab_type": "code",
    "collapsed": false,
    "executionInfo": {
     "elapsed": 7664,
     "status": "ok",
     "timestamp": 1523683012488,
     "user": {
      "displayName": "saprem shah",
      "photoUrl": "https://lh3.googleusercontent.com/a/default-user=s128",
      "userId": "118405894786681012982"
     },
     "user_tz": -330
    },
    "id": "VmCtIEjGknuA",
    "outputId": "ec8b8d2c-b2c0-4bbe-faf9-83e1f492cdea"
   },
   "outputs": [
    {
     "name": "stdout",
     "output_type": "stream",
     "text": [
      "0 [0.14380224]\n",
      "1 [0.96467954]\n",
      "1 [0.8532581]\n",
      "0 [0.772426]\n",
      "1 [0.9947313]\n",
      "1 [0.83884025]\n",
      "1 [0.96342444]\n",
      "0 [0.01541099]\n",
      "0 [0.9501673]\n",
      "1 [0.98871696]\n",
      "1 [0.9720296]\n",
      "0 [0.00997449]\n",
      "0 [0.01370398]\n",
      "0 [0.01042709]\n",
      "1 [0.9940078]\n",
      "0 [0.00816277]\n",
      "1 [0.9946009]\n",
      "0 [0.40509513]\n",
      "0 [0.00091926]\n",
      "0 [0.03281109]\n",
      "1 [0.99746823]\n",
      "1 [0.96516466]\n",
      "1 [0.41375855]\n",
      "1 [0.96385175]\n",
      "1 [0.95197797]\n",
      "1 [0.9938386]\n",
      "0 [0.01369209]\n",
      "1 [0.994942]\n",
      "1 [0.9863414]\n",
      "0 [0.01733197]\n",
      "1 [0.9960437]\n",
      "1 [0.80340904]\n",
      "0 [0.46944886]\n",
      "0 [0.00304396]\n",
      "0 [0.06546565]\n",
      "0 [0.00742557]\n",
      "1 [0.8967251]\n",
      "1 [0.965731]\n",
      "0 [0.2081048]\n",
      "0 [0.00248331]\n",
      "1 [0.9997285]\n",
      "1 [0.9767263]\n",
      "0 [0.01037233]\n",
      "1 [0.9755499]\n",
      "1 [0.9976682]\n",
      "1 [0.70092386]\n",
      "0 [0.07556955]\n",
      "0 [0.0011261]\n",
      "0 [0.00766863]\n",
      "1 [0.6771211]\n"
     ]
    }
   ],
   "source": [
    "for x in range(50):\n",
    "  print(y_test[x],model.predict(X_test[x].reshape(1,X_test.shape[1]),batch_size=1,verbose = 2)[0])\n",
    "  "
   ]
  },
  {
   "cell_type": "code",
   "execution_count": 0,
   "metadata": {
    "colab": {
     "autoexec": {
      "startup": false,
      "wait_interval": 0
     }
    },
    "colab_type": "code",
    "collapsed": true,
    "id": "zDeMD2n7lKB2"
   },
   "outputs": [],
   "source": []
  }
 ],
 "metadata": {
  "accelerator": "GPU",
  "colab": {
   "default_view": {},
   "name": "DataMining.ipynb",
   "provenance": [],
   "version": "0.3.2",
   "views": {}
  },
  "kernelspec": {
   "display_name": "Python [Root]",
   "language": "python",
   "name": "Python [Root]"
  },
  "language_info": {
   "codemirror_mode": {
    "name": "ipython",
    "version": 2
   },
   "file_extension": ".py",
   "mimetype": "text/x-python",
   "name": "python",
   "nbconvert_exporter": "python",
   "pygments_lexer": "ipython2",
   "version": "2.7.12"
  }
 },
 "nbformat": 4,
 "nbformat_minor": 0
}
